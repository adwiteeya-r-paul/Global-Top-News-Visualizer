{
  "nbformat": 4,
  "nbformat_minor": 0,
  "metadata": {
    "colab": {
      "provenance": [],
      "authorship_tag": "ABX9TyOk1hlNJj3JJ+cL/TiyaHB3",
      "include_colab_link": true
    },
    "kernelspec": {
      "name": "python3",
      "display_name": "Python 3"
    },
    "language_info": {
      "name": "python"
    }
  },
  "cells": [
    {
      "cell_type": "markdown",
      "metadata": {
        "id": "view-in-github",
        "colab_type": "text"
      },
      "source": [
        "<a href=\"https://colab.research.google.com/github/adwiteeya-r-paul/Global-Top-News-Visualizer/blob/main/NewsData_io.ipynb\" target=\"_parent\"><img src=\"https://colab.research.google.com/assets/colab-badge.svg\" alt=\"Open In Colab\"/></a>"
      ]
    },
    {
      "cell_type": "code",
      "execution_count": null,
      "metadata": {
        "colab": {
          "base_uri": "https://localhost:8080/"
        },
        "id": "zg7-U-jcIOrH",
        "outputId": "8c05e2ea-2563-42bd-d3b4-d817d960de50"
      },
      "outputs": [
        {
          "output_type": "stream",
          "name": "stdout",
          "text": [
            "Requirement already satisfied: sqlalchemy in /usr/local/lib/python3.11/dist-packages (2.0.41)\n",
            "Requirement already satisfied: greenlet>=1 in /usr/local/lib/python3.11/dist-packages (from sqlalchemy) (3.2.3)\n",
            "Requirement already satisfied: typing-extensions>=4.6.0 in /usr/local/lib/python3.11/dist-packages (from sqlalchemy) (4.14.0)\n"
          ]
        }
      ],
      "source": [
        "!pip install sqlalchemy"
      ]
    },
    {
      "cell_type": "code",
      "source": [
        "import requests\n",
        "import pandas\n",
        "import sqlalchemy\n",
        "import json"
      ],
      "metadata": {
        "id": "Q90dyJVZIzLt"
      },
      "execution_count": null,
      "outputs": []
    },
    {
      "cell_type": "code",
      "source": [
        "url = \"https://newsdata.io/api/1/news?apikey=pub_e088657c37424264a2f026359cd065be&country=bd\""
      ],
      "metadata": {
        "id": "wnJCpNMMI3mx"
      },
      "execution_count": null,
      "outputs": []
    },
    {
      "cell_type": "code",
      "source": [
        "header = {\"Content-Type\": \"application/json\",\n",
        "          \"Accept-Encoding\": \"deflate\"}\n",
        "\n",
        "response = requests.get(url, headers = header)\n",
        "print(response)\n",
        "\n",
        "responseData = response.json()\n",
        "\n",
        "df = pandas.DataFrame(responseData['results'])\n",
        "print(df[\"title\"][0])\n",
        "\n"
      ],
      "metadata": {
        "colab": {
          "base_uri": "https://localhost:8080/"
        },
        "id": "SFo3ZjQOLu7y",
        "outputId": "5dc835e1-776d-49ad-9a21-2e3a6d1a6e32"
      },
      "execution_count": null,
      "outputs": [
        {
          "output_type": "stream",
          "name": "stdout",
          "text": [
            "<Response [200]>\n",
            "এনসিপির জুলাই পদযাত্রার গাড়ি লক্ষ্য করে ককটেল নিক্ষেপ\n"
          ]
        }
      ]
    },
    {
      "cell_type": "code",
      "source": [
        "import requests\n",
        "import json\n",
        "\n",
        "url = \"https://ftapi.pythonanywhere.com/translate?sl=bn&dl=en&text=এনসিপিরজুলাইপদযাত্রারগাড়িলক্ষ্যকরেককটেলনিক্ষেপ\"\n",
        "\n",
        "headers = {\"Content-Type\": \"application/json; charset=utf-8\"}\n",
        "\n",
        "data = {\n",
        "  \"q\" : \"এনসিপির জুলাই পদযাত্রার গাড়ি লক্ষ্য করে ককটেল নিক্ষেপ\",\n",
        "  \"source\" : \"auto\",\n",
        "  \"target\" : \"en\"\n",
        "}\n",
        "\n",
        "response = requests.post(url,json = data, headers=headers)\n",
        "\n",
        "print(response.text)\n"
      ],
      "metadata": {
        "colab": {
          "base_uri": "https://localhost:8080/"
        },
        "id": "weLv4HVFVyZ4",
        "outputId": "e91e0cb5-b729-457a-b30c-9e21934093ca"
      },
      "execution_count": null,
      "outputs": [
        {
          "output_type": "stream",
          "name": "stdout",
          "text": [
            "\n",
            "<!DOCTYPE html>\n",
            "<html lang=\"en\">\n",
            "<head>\n",
            "  <meta http-equiv=\"content-type\" content=\"text/html; charset=utf-8\">\n",
            "  <meta name=\"robots\" content=\"NONE,NOARCHIVE\">\n",
            "  <title>403 Forbidden</title>\n",
            "  <style type=\"text/css\">\n",
            "    html * { padding:0; margin:0; }\n",
            "    body * { padding:10px 20px; }\n",
            "    body * * { padding:0; }\n",
            "    body { font:small sans-serif; background:#eee; color:#000; }\n",
            "    body>div { border-bottom:1px solid #ddd; }\n",
            "    h1 { font-weight:normal; margin-bottom:.4em; }\n",
            "    h1 span { font-size:60%; color:#666; font-weight:normal; }\n",
            "    #info { background:#f6f6f6; }\n",
            "    #info ul { margin: 0.5em 4em; }\n",
            "    #info p, #summary p { padding-top:10px; }\n",
            "    #summary { background: #ffc; }\n",
            "    #explanation { background:#eee; border-bottom: 0px none; }\n",
            "  </style>\n",
            "</head>\n",
            "<body>\n",
            "<div id=\"summary\">\n",
            "  <h1>Forbidden <span>(403)</span></h1>\n",
            "  <p>CSRF verification failed. Request aborted.</p>\n",
            "\n",
            "  <p>You are seeing this message because this HTTPS site requires a “Referer header” to be sent by your web browser, but none was sent. This header is required for security reasons, to ensure that your browser is not being hijacked by third parties.</p>\n",
            "  <p>If you have configured your browser to disable “Referer” headers, please re-enable them, at least for this site, or for HTTPS connections, or for “same-origin” requests.</p>\n",
            "  <p>If you are using the &lt;meta name=&quot;referrer&quot; content=&quot;no-referrer&quot;&gt; tag or including the “Referrer-Policy: no-referrer” header, please remove them. The CSRF protection requires the “Referer” header to do strict referer checking. If you’re concerned about privacy, use alternatives like &lt;a rel=&quot;noreferrer&quot; …&gt; for links to third-party sites.</p>\n",
            "\n",
            "\n",
            "</div>\n",
            "\n",
            "<div id=\"explanation\">\n",
            "  <p><small>More information is available with DEBUG=True.</small></p>\n",
            "</div>\n",
            "\n",
            "</body>\n",
            "</html>\n",
            "\n"
          ]
        }
      ]
    }
  ]
}